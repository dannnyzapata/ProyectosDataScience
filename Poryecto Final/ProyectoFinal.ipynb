{
  "nbformat": 4,
  "nbformat_minor": 5,
  "metadata": {
    "kernelspec": {
      "display_name": "Python 3",
      "language": "python",
      "name": "python3"
    },
    "language_info": {
      "codemirror_mode": {
        "name": "ipython",
        "version": 3
      },
      "file_extension": ".py",
      "mimetype": "text/x-python",
      "name": "python",
      "nbconvert_exporter": "python",
      "pygments_lexer": "ipython3",
      "version": "3.8.8"
    },
    "colab": {
      "name": "ProyectoFinal.ipynb",
      "provenance": []
    }
  },
  "cells": [
    {
      "cell_type": "markdown",
      "metadata": {
        "id": "cldZIN6a1KIr"
      },
      "source": [
        "#Importar mi Matriz de confusion"
      ],
      "id": "cldZIN6a1KIr"
    },
    {
      "cell_type": "code",
      "metadata": {
        "colab": {
          "base_uri": "https://localhost:8080/"
        },
        "id": "QcC1gMGc3i_l",
        "outputId": "5cdc6b30-8323-4151-ba0b-db64fc04ce99"
      },
      "source": [
        "from google.colab import drive\n",
        "drive.mount('/content/drive')"
      ],
      "id": "QcC1gMGc3i_l",
      "execution_count": 5,
      "outputs": [
        {
          "output_type": "stream",
          "name": "stdout",
          "text": [
            "Drive already mounted at /content/drive; to attempt to forcibly remount, call drive.mount(\"/content/drive\", force_remount=True).\n"
          ]
        }
      ]
    },
    {
      "cell_type": "code",
      "metadata": {
        "id": "Sb4m7MF-36B5"
      },
      "source": [
        "!cp /content/drive/MyDrive/Modulos/matriz_confusion.py /content"
      ],
      "id": "Sb4m7MF-36B5",
      "execution_count": 6,
      "outputs": []
    },
    {
      "cell_type": "code",
      "metadata": {
        "colab": {
          "base_uri": "https://localhost:8080/",
          "height": 934
        },
        "id": "552ace18",
        "outputId": "a1c5de17-7f25-4ca0-b54e-bb1e59474224"
      },
      "source": [
        "#Daniel Alberto Zapata Jimenez\n",
        "#Red Neuronal\n",
        "\n",
        "import numpy as np\n",
        "np.random.seed(2)\n",
        "\n",
        "import matplotlib.pyplot as plt\n",
        "\n",
        "from keras.datasets import mnist\n",
        "from keras.utils import np_utils\n",
        "\n",
        "from keras.models import Sequential\n",
        "from keras.layers.convolutional import Conv2D, MaxPooling2D\n",
        "from keras.layers.core import Flatten, Dense\n",
        "from tensorflow.keras.optimizers import SGD\n",
        "\n",
        "(x_train, y_train), (x_test,y_test) = mnist.load_data()\n",
        "print(x_train.shape)\n",
        "print(y_train.shape)\n",
        "print(x_test.shape)\n",
        "print(y_test.shape)\n",
        "\n",
        "x_train = x_train/255.0\n",
        "x_test = x_test/255.0\n",
        "\n",
        "nclases = 10\n",
        "y_train = np_utils.to_categorical(y_train,nclases)\n",
        "y_test = np_utils.to_categorical(y_test,nclases)\n",
        "\n",
        "nimagen = 100\n",
        "plt.imshow(x_train[nimagen,:].reshape(28,28), cmap='gray_r')\n",
        "plt.title('Buscando Imagen para probar el programa - Categoría: ' + str(np.argmax(y_train[nimagen])))\n",
        "plt.axis('off')\n",
        "plt.show()\n",
        "\n",
        "x_train = x_train.reshape(60000,28,28,1)\n",
        "x_test = x_test.reshape(10000,28,28,1)\n",
        "\n",
        "#Creación del modelo Keras\n",
        "modelo = Sequential()\n",
        "# CONV1 Y MAX-POOLING1\n",
        "modelo.add(Conv2D(filters=6, kernel_size=(5,5), activation='relu', input_shape=(28,28,1)))\n",
        "modelo.add(MaxPooling2D(pool_size=(2,2)))\n",
        "# CONV2 Y MAX-POOLING2\n",
        "modelo.add(Conv2D(filters=16, kernel_size=(5,5), activation='relu'))\n",
        "modelo.add(MaxPooling2D(pool_size=(2,2)))\n",
        "# Aplanar, FC1, FC2 y salida\n",
        "modelo.add(Flatten())\n",
        "modelo.add(Dense(120,activation='relu'))\n",
        "modelo.add(Dense(84,activation='relu'))\n",
        "modelo.add(Dense(nclases,activation='softmax'))\n",
        "sgd = SGD(lr=0.1)\n",
        "modelo.compile(loss='categorical_crossentropy', optimizer=sgd, metrics=['accuracy'])\n",
        "#Entrenamiento y validación del modelo\n",
        "nepochs = 10\n",
        "tam_lote = 128\n",
        "modelo.fit(x_train,y_train,epochs=nepochs,batch_size=tam_lote, verbose=1, validation_data=(x_test,y_test))\n",
        "#Análisis\n",
        "from matriz_confusion import graficar_matriz_de_confusion\n",
        "y_pred = modelo.predict_classes(x_test)\n",
        "y_ref = np.argmax(y_test,axis=1)\n",
        "etiquetas = ['0','1','2','3','4','5','6','7','8','9']\n",
        "graficar_matriz_de_confusion(y_ref, y_pred, etiquetas)"
      ],
      "id": "552ace18",
      "execution_count": 7,
      "outputs": [
        {
          "output_type": "stream",
          "name": "stdout",
          "text": [
            "(60000, 28, 28)\n",
            "(60000,)\n",
            "(10000, 28, 28)\n",
            "(10000,)\n"
          ]
        },
        {
          "output_type": "display_data",
          "data": {
            "image/png": "[encoded data removed]",
            "text/plain": [
              "<Figure size 432x288 with 1 Axes>"
            ]
          },
          "metadata": {
            "needs_background": "light"
          }
        },
        {
          "output_type": "stream",
          "name": "stderr",
          "text": [
            "/usr/local/lib/python3.7/dist-packages/keras/optimizer_v2/gradient_descent.py:102: UserWarning: The `lr` argument is deprecated, use `learning_rate` instead.\n",
            "  super(SGD, self).__init__(name, **kwargs)\n"
          ]
        },
        {
          "output_type": "stream",
          "name": "stdout",
          "text": [
            "Epoch 1/10\n",
            "469/469 [==============================] - 25s 52ms/step - loss: 0.4072 - accuracy: 0.8676 - val_loss: 0.1583 - val_accuracy: 0.9513\n",
            "Epoch 2/10\n",
            "469/469 [==============================] - 24s 51ms/step - loss: 0.0977 - accuracy: 0.9689 - val_loss: 0.0805 - val_accuracy: 0.9751\n",
            "Epoch 3/10\n",
            "469/469 [==============================] - 23s 50ms/step - loss: 0.0704 - accuracy: 0.9769 - val_loss: 0.0679 - val_accuracy: 0.9773\n",
            "Epoch 4/10\n",
            "469/469 [==============================] - 23s 50ms/step - loss: 0.0556 - accuracy: 0.9822 - val_loss: 0.0645 - val_accuracy: 0.9768\n",
            "Epoch 5/10\n",
            "469/469 [==============================] - 24s 50ms/step - loss: 0.0470 - accuracy: 0.9849 - val_loss: 0.0491 - val_accuracy: 0.9839\n",
            "Epoch 6/10\n",
            "469/469 [==============================] - 23s 50ms/step - loss: 0.0400 - accuracy: 0.9872 - val_loss: 0.0445 - val_accuracy: 0.9864\n",
            "Epoch 7/10\n",
            "469/469 [==============================] - 24s 50ms/step - loss: 0.0355 - accuracy: 0.9885 - val_loss: 0.0385 - val_accuracy: 0.9859\n",
            "Epoch 8/10\n",
            "469/469 [==============================] - 24s 50ms/step - loss: 0.0304 - accuracy: 0.9901 - val_loss: 0.0511 - val_accuracy: 0.9830\n",
            "Epoch 9/10\n",
            "469/469 [==============================] - 24s 50ms/step - loss: 0.0279 - accuracy: 0.9909 - val_loss: 0.0939 - val_accuracy: 0.9683\n",
            "Epoch 10/10\n",
            "469/469 [==============================] - 23s 50ms/step - loss: 0.0242 - accuracy: 0.9921 - val_loss: 0.0356 - val_accuracy: 0.9886\n"
          ]
        },
        {
          "output_type": "error",
          "ename": "AttributeError",
          "evalue": "ignored",
          "traceback": [
            "\u001b[0;31m---------------------------------------------------------------------------\u001b[0m",
            "\u001b[0;31mAttributeError\u001b[0m                            Traceback (most recent call last)",
            "\u001b[0;32m<ipython-input-7-2809fbf95635>\u001b[0m in \u001b[0;36m<module>\u001b[0;34m()\u001b[0m\n\u001b[1;32m     58\u001b[0m \u001b[0;31m#Análisis\u001b[0m\u001b[0;34m\u001b[0m\u001b[0;34m\u001b[0m\u001b[0;34m\u001b[0m\u001b[0m\n\u001b[1;32m     59\u001b[0m \u001b[0;32mfrom\u001b[0m \u001b[0mmatriz_confusion\u001b[0m \u001b[0;32mimport\u001b[0m \u001b[0mgraficar_matriz_de_confusion\u001b[0m\u001b[0;34m\u001b[0m\u001b[0;34m\u001b[0m\u001b[0m\n\u001b[0;32m---> 60\u001b[0;31m \u001b[0my_pred\u001b[0m \u001b[0;34m=\u001b[0m \u001b[0mmodelo\u001b[0m\u001b[0;34m.\u001b[0m\u001b[0mpredict_classes\u001b[0m\u001b[0;34m(\u001b[0m\u001b[0mx_test\u001b[0m\u001b[0;34m)\u001b[0m\u001b[0;34m\u001b[0m\u001b[0;34m\u001b[0m\u001b[0m\n\u001b[0m\u001b[1;32m     61\u001b[0m \u001b[0my_ref\u001b[0m \u001b[0;34m=\u001b[0m \u001b[0mnp\u001b[0m\u001b[0;34m.\u001b[0m\u001b[0margmax\u001b[0m\u001b[0;34m(\u001b[0m\u001b[0my_test\u001b[0m\u001b[0;34m,\u001b[0m\u001b[0maxis\u001b[0m\u001b[0;34m=\u001b[0m\u001b[0;36m1\u001b[0m\u001b[0;34m)\u001b[0m\u001b[0;34m\u001b[0m\u001b[0;34m\u001b[0m\u001b[0m\n\u001b[1;32m     62\u001b[0m \u001b[0metiquetas\u001b[0m \u001b[0;34m=\u001b[0m \u001b[0;34m[\u001b[0m\u001b[0;34m'0'\u001b[0m\u001b[0;34m,\u001b[0m\u001b[0;34m'1'\u001b[0m\u001b[0;34m,\u001b[0m\u001b[0;34m'2'\u001b[0m\u001b[0;34m,\u001b[0m\u001b[0;34m'3'\u001b[0m\u001b[0;34m,\u001b[0m\u001b[0;34m'4'\u001b[0m\u001b[0;34m,\u001b[0m\u001b[0;34m'5'\u001b[0m\u001b[0;34m,\u001b[0m\u001b[0;34m'6'\u001b[0m\u001b[0;34m,\u001b[0m\u001b[0;34m'7'\u001b[0m\u001b[0;34m,\u001b[0m\u001b[0;34m'8'\u001b[0m\u001b[0;34m,\u001b[0m\u001b[0;34m'9'\u001b[0m\u001b[0;34m]\u001b[0m\u001b[0;34m\u001b[0m\u001b[0;34m\u001b[0m\u001b[0m\n",
            "\u001b[0;31mAttributeError\u001b[0m: 'Sequential' object has no attribute 'predict_classes'"
          ]
        }
      ]
    },
    {
      "cell_type": "markdown",
      "metadata": {
        "id": "q-x7bx1h4U6e"
      },
      "source": [
        "#Random Forest"
      ],
      "id": "q-x7bx1h4U6e"
    },
    {
      "cell_type": "code",
      "metadata": {
        "id": "67cecd77"
      },
      "source": [
        "from sklearn.datasets import fetch_openml\n",
        "from sklearn.ensemble import RandomForestClassifier\n",
        "from sklearn.metrics import accuracy_score\n",
        "\n",
        "# Fetching MNIST Dataset\n",
        "mnist = fetch_openml('mnist_784', version=1)\n",
        "\n",
        "# Get the data and target\n",
        "X, y = mnist[\"data\"], mnist[\"target\"]\n",
        "\n",
        "# Split the train and test set\n",
        "X_train, X_test, y_train, y_test = X[:60000], X[60000:], y[:60000], y[60000:]\n",
        "\n",
        "# Training on the existing dataset\n",
        "rf_clf = RandomForestClassifier(random_state=42)\n",
        "rf_clf.fit(X_train, y_train)\n",
        "\n",
        "# Evaluating the model\n",
        "y_pred = rf_clf.predict(X_test)\n",
        "score = accuracy_score(y_test, y_pred)\n",
        "print(\"Accuracy score after training on existing dataset\", score)"
      ],
      "id": "67cecd77",
      "execution_count": null,
      "outputs": []
    },
    {
      "cell_type": "markdown",
      "metadata": {
        "id": "ABuzj3fr4cbi"
      },
      "source": [
        "#Support Vector Machine"
      ],
      "id": "ABuzj3fr4cbi"
    },
    {
      "cell_type": "code",
      "metadata": {
        "id": "RslQTRE84flb"
      },
      "source": [
        "from scipy.stats import mode\n",
        "import numpy as np\n",
        "#from mnist import MNIST\n",
        "from time import time\n",
        "import pandas as pd\n",
        "import os\n",
        "import matplotlib.pyplot as matplot\n",
        "import matplotlib\n",
        "%matplotlib inline\n",
        "\n",
        "import random\n",
        "matplot.rcdefaults()\n",
        "from IPython.display import display, HTML\n",
        "from itertools import chain\n",
        "from sklearn.metrics import confusion_matrix\n",
        "from sklearn.metrics import accuracy_score\n",
        "import seaborn as sb\n",
        "from sklearn.model_selection import ParameterGrid\n",
        "from sklearn.svm import SVC, LinearSVC\n",
        "import warnings\n",
        "warnings.filterwarnings('ignore')\n",
        "\n",
        "from tensorflow.examples.tutorials.mnist import input_data\n",
        "mnist = input_data.read_data_sets('MNIST_data/')\n",
        "\n",
        "train = mnist.train.images\n",
        "validation = mnist.validation.images\n",
        "test = mnist.test.images\n",
        "\n",
        "trlab = mnist.train.labels\n",
        "vallab = mnist.validation.labels\n",
        "tslab = mnist.test.labels\n",
        "\n",
        "train = np.concatenate((train, validation), axis=0)\n",
        "trlab = np.concatenate((trlab, vallab), axis=0)\n",
        "\n",
        "svm = LinearSVC(dual=False)\n",
        "svm.fit(train, trlab)\n",
        "\n",
        "svm.coef_\n",
        "svm.intercept_\n",
        "pred = svm.predict(test)\n",
        "\n",
        "accuracy_score(tslab, pred) # Accuracy\n",
        "\n",
        "\n",
        "cm = confusion_matrix(tslab, pred)\n",
        "matplot.subplots(figsize=(10, 6))\n",
        "sb.heatmap(cm, annot = True, fmt = 'g')\n",
        "matplot.xlabel(\"Predicted\")\n",
        "matplot.ylabel(\"Actual\")\n",
        "matplot.title(\"Confusion Matrix\")\n",
        "matplot.show()\n",
        "\n",
        "\n"
      ],
      "id": "RslQTRE84flb",
      "execution_count": null,
      "outputs": []
    }
  ]
}